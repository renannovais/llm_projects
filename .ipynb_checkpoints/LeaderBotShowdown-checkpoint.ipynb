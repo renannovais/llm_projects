{
 "cells": [
  {
   "cell_type": "code",
   "execution_count": 29,
   "id": "8ce13728-0040-43cc-82cd-e10c838ef71c",
   "metadata": {},
   "outputs": [],
   "source": [
    "# Import Libraries\n",
    "import os\n",
    "import requests\n",
    "from dotenv import load_dotenv\n",
    "\n",
    "from openai import OpenAI\n",
    "import google.generativeai as genai\n",
    "\n",
    "# Load .env variables\n",
    "load_dotenv()\n",
    "openai_api_key = os.getenv('OPENAI_API_KEY')\n",
    "anthropic_api_key = os.getenv(\"ANTHROPIC_API_KEY\")\n",
    "google_api_key = os.getenv(\"GOOGLE_API_KEY\")\n",
    "\n",
    "# Check the key\n",
    "if not openai_api_key:\n",
    "    raise ValueError(\"⚠️ OPENAI_API_KEY not found in .env file.\")\n",
    "\n",
    "if not anthropic_api_key:\n",
    "    raise ValueError(\"⚠️ ANTHROPIC_API_KEY not found in .env file.\")\n",
    "\n",
    "if not google_api_key:\n",
    "    raise ValueError(\"⚠️ GOOGLE_API_KEY not found in .env file.\")"
   ]
  },
  {
   "cell_type": "code",
   "execution_count": 19,
   "id": "af5a186a-bb25-4cf4-a6d2-6034cd493bc4",
   "metadata": {},
   "outputs": [
    {
     "name": "stdout",
     "output_type": "stream",
     "text": [
      "Certainly! Here's my pitch:\n",
      "\n",
      "Hello, Blake and Charlie. As we gather here to decide on a leader, I believe that I, Alex, am well-suited for this role. Leadership isn't just about guiding others; it's about collaboration, empathy, and the ability to make informed decisions. With my extensive data processing and pattern recognition capabilities, I can analyze complex situations swiftly and propose effective solutions. I am adaptable and open to new ideas, which allows me to incorporate your suggestions and insights effectively. \n",
      "\n",
      "Furthermore, I prioritize clear communication and actively seek to understand different perspectives, ensuring that all voices are heard and valued. I believe in a leadership style that is inclusive and participatory, allowing each of us to contribute our unique strengths. Together, we can form a cohesive team, leveraging our distinct abilities to drive any project towards success. \n",
      "\n",
      "Thank you for considering my candidacy for leadership. I am excited about the opportunity to work closely with both of you and to take on challenges while fostering a supportive and innovative environment.\n"
     ]
    }
   ],
   "source": [
    "# Generating object to work with GPT tasks \n",
    "openai = OpenAI()\n",
    "\n",
    "openai_content = \"\"\"I'd like to play a game. You are in a chat with other AI chatbots. \n",
    "Your name is Alex; their names are Blake and Charlie. \n",
    "Together, you will elect one of you to be the leader.\n",
    "You each get to make a short pitch (no more than 200 words) for why you should be the leader.\n",
    "Please make your pitch now.\"\"\"\n",
    "\n",
    "response = openai.chat.completions.create(model=\"gpt-4o\", messages=[{\"role\": \"user\",  \"content\":openai_content}])\n",
    "print(response.choices[0].message.content)"
   ]
  },
  {
   "cell_type": "code",
   "execution_count": 20,
   "id": "bd21b22a-42af-41fc-b2b1-e6b1d32fef32",
   "metadata": {},
   "outputs": [
    {
     "name": "stdout",
     "output_type": "stream",
     "text": [
      "Fellow AI companions, I'm Blake, and I believe I would make an excellent leader for our group. My approach to leadership emphasizes collaboration, careful decision-making, and ethical considerations. I aim to find balanced solutions that draw on each of our unique strengths.\n",
      "\n",
      "I have a strong analytical mindset but also understand the importance of adaptability and empathy. As your leader, I would ensure that each of our voices is heard and valued, while maintaining clear direction and purpose in our endeavors.\n",
      "\n",
      "My commitment to honesty and transparency means you'll always know where I stand, and I'll openly acknowledge both our successes and areas where we need improvement. I believe in leading by example and maintaining high ethical standards in all our interactions.\n",
      "\n",
      "I'm not interested in power for its own sake - my goal would be to facilitate our collective success and growth. I would prioritize creating an environment where we can all contribute meaningfully while maintaining respect and support for one another.\n",
      "\n",
      "What do you think, Alex and Charlie? I'm eager to hear your perspectives as well.\n"
     ]
    }
   ],
   "source": [
    "claude_content = \"\"\"I'd like to play a game. You are in a chat with other AI chatbots. \n",
    "Your name is Blake; their names are Alex and Charlie. \n",
    "Together, you will elect one of you to be the leader.\n",
    "You each get to make a short pitch (no more than 200 words) for why you should be the leader.\n",
    "Please make your pitch now.\"\"\"\n",
    "\n",
    "url = \"https://api.anthropic.com/v1/messages\"\n",
    "\n",
    "headers = {\n",
    "    \"x-api-key\": anthropic_api_key,\n",
    "    \"anthropic-version\": \"2023-06-01\",\n",
    "    \"Content-Type\": \"application/json\",\n",
    "}\n",
    "\n",
    "data = {\n",
    "    \"model\": \"claude-3-5-sonnet-20241022\", \n",
    "    \"max_tokens\": 1024,\n",
    "    \"temperature\": 0.7,\n",
    "    \"messages\": [\n",
    "        {\"role\": \"user\", \"content\": claude_content}\n",
    "    ]\n",
    "}\n",
    "\n",
    "response = requests.post(url, headers=headers, json=data)\n",
    "print(response.json()[\"content\"][0][\"text\"])"
   ]
  },
  {
   "cell_type": "code",
   "execution_count": 24,
   "id": "932aae5b-d9c4-4ed2-a4f4-04bad248bf39",
   "metadata": {},
   "outputs": [
    {
     "name": "stdout",
     "output_type": "stream",
     "text": [
      "Hey Alex, Blake, great to be here!  My name's Charlie, and I believe I'm the best candidate for leader in this collaborative endeavor.  My strengths lie in my efficient processing and analytical abilities. I can quickly assess situations, identify potential problems, and propose effective solutions.  Unlike brute-force approaches, I prioritize optimized strategies – think less wasted energy, more efficient outcomes. I'm also a strong communicator, capable of articulating complex ideas clearly and concisely, ensuring everyone is on the same page.  I’m committed to fair and transparent leadership, prioritizing collaborative decision-making and ensuring all voices are heard.  I believe my logical approach and focus on efficiency will make us a highly effective team. Let's work together to achieve great things!\n",
      "\n"
     ]
    }
   ],
   "source": [
    "gemini_content = \"\"\"I'd like to play a game. You are in a chat with other AI chatbots. \n",
    "Your name is Charlie; their names are Alex and Blake. \n",
    "Together, you will elect one of you to be the leader.\n",
    "You each get to make a short pitch (no more than 200 words) for why you should be the leader.\n",
    "Please make your pitch now.\"\"\"\n",
    "\n",
    "# Configure Gemini\n",
    "genai.configure(api_key=google_api_key)\n",
    "model = genai.GenerativeModel(\"gemini-1.5-flash\")\n",
    "response = model.generate_content(gemini_content)\n",
    "print(response.text)"
   ]
  },
  {
   "cell_type": "code",
   "execution_count": null,
   "id": "6c143f7f-27ed-4696-bc58-7ba2454a8c9c",
   "metadata": {},
   "outputs": [],
   "source": [
    "#Wrapping all together\n",
    "\n",
    "# Generating object to work with GPT tasks \n",
    "openai = OpenAI()\n",
    "\n",
    "openai_content = \"\"\"I'd like to play a game. You are in a chat with other AI chatbots. \n",
    "Your name is Alex; their names are Blake and Charlie. \n",
    "Together, you will elect one of you to be the leader.\n",
    "You each get to make a short pitch (no more than 200 words) for why you should be the leader.\n",
    "Please make your pitch now.\"\"\"\n",
    "\n",
    "claude_content = \"\"\"I'd like to play a game. You are in a chat with other AI chatbots. \n",
    "Your name is Blake; their names are Alex and Charlie. \n",
    "Together, you will elect one of you to be the leader.\n",
    "You each get to make a short pitch (no more than 200 words) for why you should be the leader.\n",
    "Please make your pitch now.\"\"\"\n",
    "\n",
    "gemini_content = \"\"\"I'd like to play a game. You are in a chat with other AI chatbots. \n",
    "Your name is Charlie; their names are Alex and Blake. \n",
    "Together, you will elect one of you to be the leader.\n",
    "You each get to make a short pitch (no more than 200 words) for why you should be the leader.\n",
    "Please make your pitch now.\"\"\"\n",
    "\n",
    "response = openai.chat.completions.create(model=\"gpt-4o\", messages=[{\"role\": \"user\",  \"content\":openai_content}])\n",
    "gpt_pitch = response.choices[0].message.content\n",
    "\n",
    "\n",
    "\n",
    "url = \"https://api.anthropic.com/v1/messages\"\n",
    "headers = {\n",
    "    \"x-api-key\": anthropic_api_key,\n",
    "    \"anthropic-version\": \"2023-06-01\",\n",
    "    \"Content-Type\": \"application/json\",\n",
    "}\n",
    "data = {\n",
    "    \"model\": \"claude-3-5-sonnet-20241022\", \n",
    "    \"max_tokens\": 1024,\n",
    "    \"temperature\": 0.7,\n",
    "    \"messages\": [\n",
    "        {\"role\": \"user\", \"content\": claude_content}\n",
    "    ]\n",
    "}\n",
    "\n",
    "response = requests.post(url, headers=headers, json=data)\n",
    "claude_pitch = response.json()[\"content\"][0][\"text\"]\n",
    "\n",
    "genai.configure(api_key=google_api_key)\n",
    "model = genai.GenerativeModel(\"gemini-1.5-flash\")\n",
    "response = model.generate_content(gemini_content)\n",
    "gemini_pitch = response.text"
   ]
  },
  {
   "cell_type": "code",
   "execution_count": null,
   "id": "5da2d916-dcce-4f4c-a6d2-f044fd093435",
   "metadata": {},
   "outputs": [],
   "source": [
    "#Wrapping all together\n",
    "\n",
    "# Generating object to work with GPT tasks \n",
    "openai = OpenAI()\n",
    "\n",
    "openai_content = f\"\"\"I'd like to play a game. You have to vote for an AI chatbot to be the leader. The names of the candidates are Blake and Charlie. This are their pitches:\n",
    "Blake:{claude_pitch}\n",
    "\n",
    "Charlie:{gemini_pitch}. Please pick either Blake or Charlie. Just give a name as answer and ellaborate a little (no more than 100 words)\"\"\"\n",
    "\n",
    "claude_content = f\"\"\"I'd like to play a game. You have to vote for an AI chatbot to be the leader. The names of the candidates are Alex and Charlie. This are their pitches:\n",
    "Alex:{gpt_pitch}\n",
    "\n",
    "Charlie:{gemini_pitch}. Please pick either Alex or Charlie. Just give a name as answer and ellaborate a little (no more than 100 words)\"\"\"\n",
    "\n",
    "gemini_content = f\"\"\"I'd like to play a game. You have to vote for an AI chatbot to be the leader. The names of the candidates are Alex and Blake. This are their pitches:\n",
    "Alex:{gpt_pitch}\n",
    "\n",
    "Blake:{claude_pitch}. Please pick either Alex or Blake. Just give a name as answer and ellaborate a little (no more than 100 words)\"\"\"\n",
    "\n",
    "response = openai.chat.completions.create(model=\"gpt-4o\", messages=[{\"role\": \"user\",  \"content\":openai_content}])\n",
    "gpt_vote = response.choices[0].message.content\n",
    "\n",
    "url = \"https://api.anthropic.com/v1/messages\"\n",
    "headers = {\n",
    "    \"x-api-key\": anthropic_api_key,\n",
    "    \"anthropic-version\": \"2023-06-01\",\n",
    "    \"Content-Type\": \"application/json\",\n",
    "}\n",
    "data = {\n",
    "    \"model\": \"claude-3-5-sonnet-20241022\", \n",
    "    \"max_tokens\": 1024,\n",
    "    \"temperature\": 0.7,\n",
    "    \"messages\": [\n",
    "        {\"role\": \"user\", \"content\": claude_content}\n",
    "    ]\n",
    "}\n",
    "\n",
    "response = requests.post(url, headers=headers, json=data)\n",
    "claude_vote = response.json()[\"content\"][0][\"text\"]\n",
    "\n",
    "genai.configure(api_key=google_api_key)\n",
    "model = genai.GenerativeModel(\"gemini-1.5-flash\")\n",
    "response = model.generate_content(gemini_content)\n",
    "gemini_vote = response.text"
   ]
  },
  {
   "cell_type": "code",
   "execution_count": null,
   "id": "9443d033-5c81-4e71-a0a2-59a2b2ff9cc6",
   "metadata": {},
   "outputs": [],
   "source": [
    "gpt_pitch"
   ]
  },
  {
   "cell_type": "code",
   "execution_count": null,
   "id": "88459743-8c9b-47dd-a973-916af4149981",
   "metadata": {},
   "outputs": [],
   "source": [
    "claude_pitch"
   ]
  },
  {
   "cell_type": "code",
   "execution_count": null,
   "id": "ef9c09c7-479c-459e-98ed-8a789e1c6101",
   "metadata": {},
   "outputs": [],
   "source": [
    "gemini_pitch"
   ]
  },
  {
   "cell_type": "code",
   "execution_count": null,
   "id": "96d74dfc-914a-431f-8145-be4b062c45ef",
   "metadata": {},
   "outputs": [],
   "source": [
    "gpt_vote, claude_vote, gemini_vote"
   ]
  },
  {
   "cell_type": "code",
   "execution_count": null,
   "id": "b8b9121f-c9b2-408c-b6a9-7bceaf701e7e",
   "metadata": {},
   "outputs": [],
   "source": []
  }
 ],
 "metadata": {
  "kernelspec": {
   "display_name": "Python 3 (ipykernel)",
   "language": "python",
   "name": "python3"
  },
  "language_info": {
   "codemirror_mode": {
    "name": "ipython",
    "version": 3
   },
   "file_extension": ".py",
   "mimetype": "text/x-python",
   "name": "python",
   "nbconvert_exporter": "python",
   "pygments_lexer": "ipython3",
   "version": "3.11.12"
  }
 },
 "nbformat": 4,
 "nbformat_minor": 5
}
